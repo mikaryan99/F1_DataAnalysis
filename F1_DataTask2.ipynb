{
 "cells": [
  {
   "cell_type": "code",
   "execution_count": 1,
   "id": "374f5db9-bc51-46ce-9006-7ef581ca3a1d",
   "metadata": {},
   "outputs": [
    {
     "data": {
      "text/html": [
       "<div>\n",
       "<style scoped>\n",
       "    .dataframe tbody tr th:only-of-type {\n",
       "        vertical-align: middle;\n",
       "    }\n",
       "\n",
       "    .dataframe tbody tr th {\n",
       "        vertical-align: top;\n",
       "    }\n",
       "\n",
       "    .dataframe thead th {\n",
       "        text-align: right;\n",
       "    }\n",
       "</style>\n",
       "<table border=\"1\" class=\"dataframe\">\n",
       "  <thead>\n",
       "    <tr style=\"text-align: right;\">\n",
       "      <th></th>\n",
       "      <th>year</th>\n",
       "      <th>round</th>\n",
       "      <th>driver_name</th>\n",
       "      <th>constructor</th>\n",
       "      <th>position</th>\n",
       "      <th>points</th>\n",
       "      <th>starting_position</th>\n",
       "      <th>fastest_lap_time</th>\n",
       "    </tr>\n",
       "  </thead>\n",
       "  <tbody>\n",
       "    <tr>\n",
       "      <th>0</th>\n",
       "      <td>2000</td>\n",
       "      <td>1</td>\n",
       "      <td>Michael Schumacher</td>\n",
       "      <td>Ferrari</td>\n",
       "      <td>1</td>\n",
       "      <td>10.0</td>\n",
       "      <td>3</td>\n",
       "      <td>NaN</td>\n",
       "    </tr>\n",
       "    <tr>\n",
       "      <th>1</th>\n",
       "      <td>2000</td>\n",
       "      <td>1</td>\n",
       "      <td>Rubens Barrichello</td>\n",
       "      <td>Ferrari</td>\n",
       "      <td>2</td>\n",
       "      <td>6.0</td>\n",
       "      <td>4</td>\n",
       "      <td>NaN</td>\n",
       "    </tr>\n",
       "    <tr>\n",
       "      <th>2</th>\n",
       "      <td>2000</td>\n",
       "      <td>1</td>\n",
       "      <td>Ralf Schumacher</td>\n",
       "      <td>Williams</td>\n",
       "      <td>3</td>\n",
       "      <td>4.0</td>\n",
       "      <td>11</td>\n",
       "      <td>NaN</td>\n",
       "    </tr>\n",
       "    <tr>\n",
       "      <th>3</th>\n",
       "      <td>2000</td>\n",
       "      <td>1</td>\n",
       "      <td>Jacques Villeneuve</td>\n",
       "      <td>BAR</td>\n",
       "      <td>4</td>\n",
       "      <td>3.0</td>\n",
       "      <td>8</td>\n",
       "      <td>NaN</td>\n",
       "    </tr>\n",
       "    <tr>\n",
       "      <th>4</th>\n",
       "      <td>2000</td>\n",
       "      <td>1</td>\n",
       "      <td>Giancarlo Fisichella</td>\n",
       "      <td>Benetton</td>\n",
       "      <td>5</td>\n",
       "      <td>2.0</td>\n",
       "      <td>9</td>\n",
       "      <td>NaN</td>\n",
       "    </tr>\n",
       "  </tbody>\n",
       "</table>\n",
       "</div>"
      ],
      "text/plain": [
       "   year  round           driver_name constructor  position  points  \\\n",
       "0  2000      1    Michael Schumacher     Ferrari         1    10.0   \n",
       "1  2000      1    Rubens Barrichello     Ferrari         2     6.0   \n",
       "2  2000      1       Ralf Schumacher    Williams         3     4.0   \n",
       "3  2000      1    Jacques Villeneuve         BAR         4     3.0   \n",
       "4  2000      1  Giancarlo Fisichella    Benetton         5     2.0   \n",
       "\n",
       "   starting_position fastest_lap_time  \n",
       "0                  3              NaN  \n",
       "1                  4              NaN  \n",
       "2                 11              NaN  \n",
       "3                  8              NaN  \n",
       "4                  9              NaN  "
      ]
     },
     "execution_count": 1,
     "metadata": {},
     "output_type": "execute_result"
    }
   ],
   "source": [
    "import pandas as pd\n",
    "\n",
    "# Load the saved dataset\n",
    "race_results_df = pd.read_csv('race_results.csv')\n",
    "\n",
    "# Display the first few records of the dataset\n",
    "race_results_df.head()\n"
   ]
  },
  {
   "cell_type": "markdown",
   "id": "cfdd7afb-781b-49b7-abf8-f0c58baf890a",
   "metadata": {},
   "source": [
    "## Loading the Dataset and Initial Exploration\n",
    "\n",
    "In this step, we load the previously saved dataset containing Formula 1 race results into a pandas DataFrame. The first few records of the dataset are displayed to provide an initial glimpse of the data's structure.\n"
   ]
  },
  {
   "cell_type": "code",
   "execution_count": 2,
   "id": "f2a14d98-d3a7-45e9-9d7e-56160e7f7b1a",
   "metadata": {},
   "outputs": [],
   "source": [
    "# Check for missing values\n",
    "missing_values = race_results_df.isnull().sum()\n",
    "\n",
    "# Clean missing values (if needed)\n",
    "# race_results_df = race_results_df.dropna()\n",
    "\n",
    "# Filter or transform data as necessary\n",
    "# For example, convert lap times to seconds for analysis\n",
    "# race_results_df['Fastest_Lap_Time'] = race_results_df['Fastest_Lap_Time'].apply(convert_to_seconds)\n"
   ]
  },
  {
   "cell_type": "markdown",
   "id": "4e4440f9-b22e-43f8-9c5d-d84e9326f3fd",
   "metadata": {},
   "source": [
    "## Data Preprocessing\n",
    "\n",
    "Before analysis, it's essential to preprocess the data. We start by checking for missing values in each column and considering how to handle them. If necessary, we can apply cleaning steps, such as removing or imputing missing data. Additionally, we might transform the data to a suitable format, such as converting lap times to seconds for easier analysis.\n"
   ]
  },
  {
   "cell_type": "code",
   "execution_count": 6,
   "id": "81cdd0e8-51a9-4d20-9cfd-dca5e9cdeb95",
   "metadata": {},
   "outputs": [
    {
     "data": {
      "image/png": "[encoded data removed]",
      "text/plain": [
       "<Figure size 1000x600 with 1 Axes>"
      ]
     },
     "metadata": {},
     "output_type": "display_data"
    }
   ],
   "source": [
    "import matplotlib.pyplot as plt\n",
    "\n",
    "# Summary statistics\n",
    "summary_stats = race_results_df.describe()\n",
    "\n",
    "# Number of unique drivers and teams\n",
    "num_unique_drivers = race_results_df['driver_name'].nunique()\n",
    "num_unique_teams = race_results_df['constructor'].nunique()\n",
    "\n",
    "# Visualize distribution of positions\n",
    "plt.figure(figsize=(10, 6))\n",
    "race_results_df['position'].value_counts().sort_index().plot(kind='bar')\n",
    "plt.xlabel('Position')\n",
    "plt.ylabel('Number of Occurrences')\n",
    "plt.title('Distribution of Race Positions')\n",
    "plt.show()\n"
   ]
  },
  {
   "cell_type": "markdown",
   "id": "28d46251-9169-4fc5-bfc1-b17fa8c99394",
   "metadata": {},
   "source": [
    "## Data Analysis and Visualization\n",
    "\n",
    "Now that the dataset is preprocessed, we can proceed to analyze and visualize the data. We calculate summary statistics to provide an overview of key metrics. For instance, these statistics might include mean, median, and quartiles for numeric variables.\n",
    "\n",
    "We also explore categorical data, such as the number of unique drivers and teams participating. To gain insights, we create visualizations, such as a bar plot showing the distribution of race positions. This visualization helps us understand how frequently each position occurs across the races.\n"
   ]
  },
  {
   "cell_type": "code",
   "execution_count": 18,
   "id": "4323fdbb-8a56-4707-b223-655c37c2ab82",
   "metadata": {},
   "outputs": [
    {
     "data": {
      "image/png": "[encoded data removed]",
      "text/plain": [
       "<Figure size 640x480 with 1 Axes>"
      ]
     },
     "metadata": {},
     "output_type": "display_data"
    }
   ],
   "source": [
    "# Filter the dataset for Red Bull Racing Team\n",
    "mercedes_team_data = race_results_df[race_results_df['constructor'] == 'Mercedes']\n",
    "\n",
    "# Collect Red Bull's victories from the pole position\n",
    "mercedes_pole_victories = race_results_df[(race_results_df['constructor'] == 'Mercedes') & (race_results_df['position'] == 1)]\n",
    "\n",
    "# Count the number of wins for each starting position\n",
    "pole_win_counts = mercedes_pole_victories['starting_position'].value_counts()\n",
    "\n",
    "# Plot a pie chart to visualize pole position wins\n",
    "pie_labels = pole_win_counts.index.tolist()\n",
    "pie_sizes = pole_win_counts.values.tolist()\n",
    "\n",
    "fig, ax = plt.subplots()\n",
    "ax.pie(pie_sizes, labels=pie_labels)\n",
    "\n",
    "# Add a legend showing the percentage of wins from each starting position\n",
    "total_pole_wins = sum(pie_sizes)\n",
    "win_percentages = [size / total_pole_wins * 100 for size in pie_sizes]\n",
    "legend_labels = [f'{label} ({percentage:.2f}%)' for label, percentage in zip(pie_labels, win_percentages)]\n",
    "ax.legend(legend_labels)\n",
    "ax.set_title('Distribution of Pole Position Wins for Mercedes Racing Team')\n",
    "\n",
    "plt.show()\n"
   ]
  },
  {
   "cell_type": "markdown",
   "id": "6fbdfc54-4779-4cda-bbe8-ccf3fb0500d2",
   "metadata": {},
   "source": [
    "This pie chart shows the distribution of pole position wins for Mercedes. Most victories originate from the front row of the starting grid, Especially positions 1 and 2. Proving the importance of securing a favorable starting position.\n"
   ]
  },
  {
   "cell_type": "code",
   "execution_count": 25,
   "id": "3109ac44-b9e5-4f7d-9234-81146fb19fae",
   "metadata": {},
   "outputs": [
    {
     "name": "stdout",
     "output_type": "stream",
     "text": [
      "Correlation between starting from positions 1 or 2 and finishing in positions 1 or 2 for Mercedes: 0.33\n",
      "Correlation between starting from positions 1 or 2 and finishing in positions 1 or 2 for Red Bull Racing Team: 0.15\n",
      "Correlation between starting from positions 1 or 2 and finishing in positions 1 or 2 for Ferrari: 0.16\n"
     ]
    }
   ],
   "source": [
    "# Calculate the correlation between starting from positions 1 or 2 and finishing in positions 1 or 2 for Mercedes\n",
    "mercedes_corr = mercedes_team_data[mercedes_team_data['starting_position'].isin([1, 2]) & mercedes_team_data['position'].isin([1, 2])].corr().loc['position', 'starting_position']\n",
    "\n",
    "print(f\"Correlation between starting from positions 1 or 2 and finishing in positions 1 or 2 for Mercedes: {mercedes_corr:.2f}\")\n",
    "\n",
    "redbull_team_data = race_results_df[race_results_df['constructor'] == 'Red Bull']\n",
    "# Calculate the correlation between starting from positions 1 or 2 and finishing in positions 1 or 2 for Red Bull\n",
    "redbull_corr = redbull_team_data[redbull_team_data['starting_position'].isin([1, 2]) & redbull_team_data['position'].isin([1, 2])].corr().loc['position', 'starting_position']\n",
    "\n",
    "print(f\"Correlation between starting from positions 1 or 2 and finishing in positions 1 or 2 for Red Bull Racing Team: {redbull_corr:.2f}\")\n",
    "\n",
    "Ferrari = race_results_df[race_results_df['constructor'] == 'Ferrari']\n",
    "# Calculate the correlation between starting from positions 1 or 2 and finishing in positions 1 or 2 for Ferrari\n",
    "ferrari_corr = Ferrari[Ferrari['starting_position'].isin([1, 2]) & Ferrari['position'].isin([1, 2])].corr().loc['position', 'starting_position']\n",
    "\n",
    "print(f\"Correlation between starting from positions 1 or 2 and finishing in positions 1 or 2 for Ferrari: {ferrari_corr:.2f}\")\n"
   ]
  },
  {
   "cell_type": "markdown",
   "id": "c40d0742-ea9f-481e-8d2e-e66253e730b7",
   "metadata": {},
   "source": [
    "The correlation between starting from positions 1 or 2 and finishing in positions 1 or 2 is not significant for any constructors. While starting in position 1 often leads to finishing at the front, this link isn't strong. Dominance in a year hinges on consistently outperforming rivals, emphasizing the importance of starting at the grid's forefront for a better chance of victory."
   ]
  },
  {
   "cell_type": "code",
   "execution_count": 9,
   "id": "f5e61d8c-8e7d-4b79-b6ab-7d7adec432c6",
   "metadata": {},
   "outputs": [
    {
     "data": {
      "text/html": [
       "<style type=\"text/css\">\n",
       "#T_30cc3_row0_col2, #T_30cc3_row1_col2, #T_30cc3_row2_col2, #T_30cc3_row3_col2, #T_30cc3_row4_col0, #T_30cc3_row5_col0, #T_30cc3_row6_col0, #T_30cc3_row7_col1, #T_30cc3_row8_col1, #T_30cc3_row9_col0, #T_30cc3_row10_col0, #T_30cc3_row11_col2, #T_30cc3_row12_col2 {\n",
       "  background-color: yellow;\n",
       "}\n",
       "</style>\n",
       "<table id=\"T_30cc3\">\n",
       "  <thead>\n",
       "    <tr>\n",
       "      <th class=\"blank level0\" >&nbsp;</th>\n",
       "      <th id=\"T_30cc3_level0_col0\" class=\"col_heading level0 col0\" >Mercedes</th>\n",
       "      <th id=\"T_30cc3_level0_col1\" class=\"col_heading level0 col1\" >Ferrari</th>\n",
       "      <th id=\"T_30cc3_level0_col2\" class=\"col_heading level0 col2\" >Red Bull</th>\n",
       "    </tr>\n",
       "  </thead>\n",
       "  <tbody>\n",
       "    <tr>\n",
       "      <th id=\"T_30cc3_level0_row0\" class=\"row_heading level0 row0\" >2010</th>\n",
       "      <td id=\"T_30cc3_row0_col0\" class=\"data row0 col0\" >8.657895</td>\n",
       "      <td id=\"T_30cc3_row0_col1\" class=\"data row0 col1\" >6.763158</td>\n",
       "      <td id=\"T_30cc3_row0_col2\" class=\"data row0 col2\" >2.368421</td>\n",
       "    </tr>\n",
       "    <tr>\n",
       "      <th id=\"T_30cc3_level0_row1\" class=\"row_heading level0 row1\" >2011</th>\n",
       "      <td id=\"T_30cc3_row1_col0\" class=\"data row1 col0\" >8.921053</td>\n",
       "      <td id=\"T_30cc3_row1_col1\" class=\"data row1 col1\" >5.184211</td>\n",
       "      <td id=\"T_30cc3_row1_col2\" class=\"data row1 col2\" >2.526316</td>\n",
       "    </tr>\n",
       "    <tr>\n",
       "      <th id=\"T_30cc3_level0_row2\" class=\"row_heading level0 row2\" >2012</th>\n",
       "      <td id=\"T_30cc3_row2_col0\" class=\"data row2 col0\" >9.525000</td>\n",
       "      <td id=\"T_30cc3_row2_col1\" class=\"data row2 col1\" >7.975000</td>\n",
       "      <td id=\"T_30cc3_row2_col2\" class=\"data row2 col2\" >5.450000</td>\n",
       "    </tr>\n",
       "    <tr>\n",
       "      <th id=\"T_30cc3_level0_row3\" class=\"row_heading level0 row3\" >2013</th>\n",
       "      <td id=\"T_30cc3_row3_col0\" class=\"data row3 col0\" >3.868421</td>\n",
       "      <td id=\"T_30cc3_row3_col1\" class=\"data row3 col1\" >6.973684</td>\n",
       "      <td id=\"T_30cc3_row3_col2\" class=\"data row3 col2\" >3.736842</td>\n",
       "    </tr>\n",
       "    <tr>\n",
       "      <th id=\"T_30cc3_level0_row4\" class=\"row_heading level0 row4\" >2014</th>\n",
       "      <td id=\"T_30cc3_row4_col0\" class=\"data row4 col0\" >2.947368</td>\n",
       "      <td id=\"T_30cc3_row4_col1\" class=\"data row4 col1\" >7.947368</td>\n",
       "      <td id=\"T_30cc3_row4_col2\" class=\"data row4 col2\" >7.026316</td>\n",
       "    </tr>\n",
       "    <tr>\n",
       "      <th id=\"T_30cc3_level0_row5\" class=\"row_heading level0 row5\" >2015</th>\n",
       "      <td id=\"T_30cc3_row5_col0\" class=\"data row5 col0\" >1.815789</td>\n",
       "      <td id=\"T_30cc3_row5_col1\" class=\"data row5 col1\" >6.394737</td>\n",
       "      <td id=\"T_30cc3_row5_col2\" class=\"data row5 col2\" >8.894737</td>\n",
       "    </tr>\n",
       "    <tr>\n",
       "      <th id=\"T_30cc3_level0_row6\" class=\"row_heading level0 row6\" >2016</th>\n",
       "      <td id=\"T_30cc3_row6_col0\" class=\"data row6 col0\" >2.976190</td>\n",
       "      <td id=\"T_30cc3_row6_col1\" class=\"data row6 col1\" >5.690476</td>\n",
       "      <td id=\"T_30cc3_row6_col2\" class=\"data row6 col2\" >4.809524</td>\n",
       "    </tr>\n",
       "    <tr>\n",
       "      <th id=\"T_30cc3_level0_row7\" class=\"row_heading level0 row7\" >2017</th>\n",
       "      <td id=\"T_30cc3_row7_col0\" class=\"data row7 col0\" >3.475000</td>\n",
       "      <td id=\"T_30cc3_row7_col1\" class=\"data row7 col1\" >3.450000</td>\n",
       "      <td id=\"T_30cc3_row7_col2\" class=\"data row7 col2\" >6.550000</td>\n",
       "    </tr>\n",
       "    <tr>\n",
       "      <th id=\"T_30cc3_level0_row8\" class=\"row_heading level0 row8\" >2018</th>\n",
       "      <td id=\"T_30cc3_row8_col0\" class=\"data row8 col0\" >3.428571</td>\n",
       "      <td id=\"T_30cc3_row8_col1\" class=\"data row8 col1\" >3.309524</td>\n",
       "      <td id=\"T_30cc3_row8_col2\" class=\"data row8 col2\" >7.619048</td>\n",
       "    </tr>\n",
       "    <tr>\n",
       "      <th id=\"T_30cc3_level0_row9\" class=\"row_heading level0 row9\" >2019</th>\n",
       "      <td id=\"T_30cc3_row9_col0\" class=\"data row9 col0\" >3.023810</td>\n",
       "      <td id=\"T_30cc3_row9_col1\" class=\"data row9 col1\" >4.261905</td>\n",
       "      <td id=\"T_30cc3_row9_col2\" class=\"data row9 col2\" >5.809524</td>\n",
       "    </tr>\n",
       "    <tr>\n",
       "      <th id=\"T_30cc3_level0_row10\" class=\"row_heading level0 row10\" >2020</th>\n",
       "      <td id=\"T_30cc3_row10_col0\" class=\"data row10 col0\" >2.088235</td>\n",
       "      <td id=\"T_30cc3_row10_col1\" class=\"data row10 col1\" >10.264706</td>\n",
       "      <td id=\"T_30cc3_row10_col2\" class=\"data row10 col2\" >5.205882</td>\n",
       "    </tr>\n",
       "    <tr>\n",
       "      <th id=\"T_30cc3_level0_row11\" class=\"row_heading level0 row11\" >2021</th>\n",
       "      <td id=\"T_30cc3_row11_col0\" class=\"data row11 col0\" >4.340909</td>\n",
       "      <td id=\"T_30cc3_row11_col1\" class=\"data row11 col1\" >7.181818</td>\n",
       "      <td id=\"T_30cc3_row11_col2\" class=\"data row11 col2\" >3.636364</td>\n",
       "    </tr>\n",
       "    <tr>\n",
       "      <th id=\"T_30cc3_level0_row12\" class=\"row_heading level0 row12\" >2022</th>\n",
       "      <td id=\"T_30cc3_row12_col0\" class=\"data row12 col0\" >5.977273</td>\n",
       "      <td id=\"T_30cc3_row12_col1\" class=\"data row12 col1\" >4.318182</td>\n",
       "      <td id=\"T_30cc3_row12_col2\" class=\"data row12 col2\" >4.113636</td>\n",
       "    </tr>\n",
       "  </tbody>\n",
       "</table>\n"
      ],
      "text/plain": [
       "<pandas.io.formats.style.Styler at 0x27a99634310>"
      ]
     },
     "execution_count": 9,
     "metadata": {},
     "output_type": "execute_result"
    }
   ],
   "source": [
    "# Create an empty dictionary to store the results\n",
    "team_avg_starting_positions = {}\n",
    "\n",
    "# Filter the data for specific teams and years\n",
    "teams_to_analyze = ['Mercedes', 'Ferrari', 'Red Bull']\n",
    "\n",
    "for year in range(2010, 2023):\n",
    "    year_results = race_results_df[race_results_df['year'] == year]\n",
    "    \n",
    "    team_results = {}\n",
    "    for team in teams_to_analyze:\n",
    "        team_year_results = year_results[year_results['constructor'] == team]\n",
    "        avg_starting_position = team_year_results['starting_position'].astype(int).mean()\n",
    "        team_results[team] = avg_starting_position\n",
    "    \n",
    "    team_avg_starting_positions[year] = team_results\n",
    "\n",
    "# Create a DataFrame from the dictionary\n",
    "team_avg_starting_df = pd.DataFrame.from_dict(team_avg_starting_positions, orient='index')\n",
    "\n",
    "# Highlight the lowest average starting position each year with background color\n",
    "def highlight_min(s):\n",
    "    is_min = s == s.min()\n",
    "    return ['background-color: yellow' if v else '' for v in is_min]\n",
    "\n",
    "styled_table = team_avg_starting_df.style.apply(highlight_min, axis=1)\n",
    "\n",
    "# Display the table with background color highlighting\n",
    "styled_table\n"
   ]
  },
  {
   "cell_type": "markdown",
   "id": "46d8619d-be4a-4c15-8424-c81b5f066ba6",
   "metadata": {},
   "source": [
    "This table shows the avergae starting position of teams. This table indicates that starting high up on the grid consistently can lead to overall success."
   ]
  },
  {
   "cell_type": "markdown",
   "id": "020a7053-f820-40fc-968f-7d18521e0384",
   "metadata": {
    "tags": []
   },
   "source": [
    "## Conclusion \n",
    "Cleaning was necessary to ensure proper analysis due to diverse data types. \n",
    "2 Valuable insights were garnered about Formula 1 and major constructors (Mercedes, Ferrari, Red Bull). The analysis revealed the significant role of finishing in the top 2 positions, highlighting the importance of good grid positions. \n",
    "3 Further analysis could be made on F1 surrounding the correlation between wins and total constructor spending, for example."
   ]
  },
  {
   "cell_type": "code",
   "execution_count": null,
   "id": "5901e4ff-02a4-4f79-b8c3-3e41700f892e",
   "metadata": {},
   "outputs": [],
   "source": []
  }
 ],
 "metadata": {
  "kernelspec": {
   "display_name": "Python 3 (ipykernel)",
   "language": "python",
   "name": "python3"
  },
  "language_info": {
   "codemirror_mode": {
    "name": "ipython",
    "version": 3
   },
   "file_extension": ".py",
   "mimetype": "text/x-python",
   "name": "python",
   "nbconvert_exporter": "python",
   "pygments_lexer": "ipython3",
   "version": "3.9.13"
  }
 },
 "nbformat": 4,
 "nbformat_minor": 5
}
