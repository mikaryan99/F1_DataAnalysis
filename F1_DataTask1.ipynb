{
 "cells": [
  {
   "cell_type": "code",
   "execution_count": 1,
   "id": "845aeacf-d5b9-4823-9118-00261a57bcb2",
   "metadata": {},
   "outputs": [],
   "source": [
    "import json\n",
    "import requests\n",
    "import pandas as pd\n",
    "from IPython.display import HTML\n",
    "import matplotlib.pyplot as plt\n"
   ]
  },
  {
   "cell_type": "markdown",
   "id": "6ee69e8a-05bf-445e-97a2-1cce2cb62e1d",
   "metadata": {},
   "source": [
    "# COMP30760 Assignment 1 Task 1\n",
    "## Data Identification and Collection\n",
    "\n",
    "In this task, we collect race results data from the Formula 1 racing API provided by Ergast. The API URL used is: [https://ergast.com/mrd](https://ergast.com/mrd)\n"
   ]
  },
  {
   "cell_type": "markdown",
   "id": "4aaeb051-2ab1-4978-bc40-796d7602c7ed",
   "metadata": {},
   "source": [
    "## Preparing API and Gathering Data\n",
    "\n",
    "We establish the URL structure to retrieve Formula 1 race results from the Ergast API. We'll gather data for races held between 2000 and 2022, spanning rounds 1 to 22.\n"
   ]
  },
  {
   "cell_type": "code",
   "execution_count": 2,
   "id": "03ab31d3-2d96-49d8-b740-14ad6d01c866",
   "metadata": {},
   "outputs": [],
   "source": [
    "# API setup and data collection\n",
    "api_url_pattern = 'https://ergast.com/api/f1/{year}/{round}/results.json'\n",
    "selected_years = range(2000, 2023)\n",
    "selected_rounds = range(1, 23)\n"
   ]
  },
  {
   "cell_type": "markdown",
   "id": "b760d52a-3386-43ef-839e-dc36268712fa",
   "metadata": {},
   "source": [
    "## Data Collection Workflow\n",
    "\n",
    "The following code employs nested loops to compile race results data for each chosen year and round. Extracted details encompass driver names, constructors, positions, points, starting positions, and fastest lap times. The data is then stored in a DataFrame.\n"
   ]
  },
  {
   "cell_type": "code",
   "execution_count": null,
   "id": "f2df73b4-3bca-4190-af37-6335a3a6e975",
   "metadata": {},
   "outputs": [],
   "source": [
    "# Initialize an empty list to hold the collected data\n",
    "collected_data = []\n",
    "\n",
    "# Loop through selected years and rounds; retrieve data via API requests\n",
    "for year in selected_years:\n",
    "    for rnd in selected_rounds:\n",
    "        # Generate the API URL for the specific race\n",
    "        url = api_url_pattern.format(year=year, round=rnd)\n",
    "        \n",
    "        # Fetch data from the API\n",
    "        response = requests.get(url)\n",
    "        \n",
    "        # Decode and parse the JSON response\n",
    "        race_data = json.loads(response.content.decode('utf-8'))\n",
    "        \n",
    "        # Extract relevant information from the response\n",
    "        for race in race_data['MRData']['RaceTable']['Races']:\n",
    "            for result in race['Results']:\n",
    "                driver_full_name = result['Driver']['givenName'] + ' ' + result['Driver']['familyName']\n",
    "                team_name = result['Constructor']['name']\n",
    "                finishing_position = result['position']\n",
    "                earned_points = result['points']\n",
    "                starting_position = result['grid']\n",
    "                \n",
    "                # Check if fastest lap information exists\n",
    "                if 'FastestLap' in result:\n",
    "                    fastest_lap_time = result['FastestLap']['Time']['time']\n",
    "                else:\n",
    "                    fastest_lap_time = None\n",
    "                \n",
    "                # Append data to the collected_data list\n",
    "                collected_data.append({\n",
    "                    'Year': year,\n",
    "                    'Round': race['round'],\n",
    "                    'Driver': driver_full_name,\n",
    "                    'Team': team_name,\n",
    "                    'Position': finishing_position,\n",
    "                    'Points': earned_points,\n",
    "                    'Start_Position': starting_position,\n",
    "                    'Fastest_Lap_Time': fastest_lap_time,\n",
    "                })\n",
    "\n",
    "# Create a pandas DataFrame from the collected_data list\n",
    "race_results_df = pd.DataFrame(collected_data)\n",
    "\n",
    "# Save the DataFrame to a CSV file\n",
    "race_results_df.to_csv('race_results.csv', index=False)\n",
    "\n",
    "# Display the initial records in the DataFrame\n",
    "print(race_results_df)\n"
   ]
  },
  {
   "cell_type": "markdown",
   "id": "045b2cef-f73c-447c-930f-ed8ff4187d91",
   "metadata": {},
   "source": [
    "## Interpretation of Results\n",
    "\n",
    "The collected data has been processed and stored in a DataFrame. It includes information about race results for various years and rounds, such as driver names, constructors, positions, points, starting positions, and fastest lap times. This data can be further analyzed and visualized to gain insights into Formula 1 racing performance over the years.\n"
   ]
  },
  {
   "cell_type": "code",
   "execution_count": null,
   "id": "3ab75260-7d79-405a-bbbf-c7316a2c7e5c",
   "metadata": {},
   "outputs": [],
   "source": []
  }
 ],
 "metadata": {
  "kernelspec": {
   "display_name": "Python 3 (ipykernel)",
   "language": "python",
   "name": "python3"
  },
  "language_info": {
   "codemirror_mode": {
    "name": "ipython",
    "version": 3
   },
   "file_extension": ".py",
   "mimetype": "text/x-python",
   "name": "python",
   "nbconvert_exporter": "python",
   "pygments_lexer": "ipython3",
   "version": "3.9.13"
  }
 },
 "nbformat": 4,
 "nbformat_minor": 5
}
